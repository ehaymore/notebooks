{
 "cells": [
  {
   "cell_type": "markdown",
   "metadata": {},
   "source": [
    "### Experimentation with pyspark while watching Andrew Ray's Data Wrangling with PySpark for Data Scientists Who Know Pandas"
   ]
  },
  {
   "cell_type": "code",
   "execution_count": 1,
   "metadata": {},
   "outputs": [],
   "source": [
    "import os\n",
    "from pyspark.sql.types import IntegerType, DoubleType\n",
    "# using F functions means that your processing stays in the JVM so it's fast\n",
    "import pyspark.sql.functions as F\n",
    "import pandas as pd\n",
    "import matplotlib\n",
    "\n",
    "%matplotlib inline"
   ]
  },
  {
   "cell_type": "code",
   "execution_count": 2,
   "metadata": {},
   "outputs": [],
   "source": [
    "# default matplotlib figure size \n",
    "matplotlib.rcParams['figure.figsize'] = (15.0, 8.0)\n",
    "\n",
    "# pandas dataframe floating point format\n",
    "pd.set_option('display.precision', 5)\n",
    "\n",
    "# pandas dataframe max number of rows to display\n",
    "pd.set_option('max_rows', 100)"
   ]
  },
  {
   "cell_type": "code",
   "execution_count": 3,
   "metadata": {},
   "outputs": [],
   "source": [
    "TESTFILE = os.path.join(os.environ['HOME'],\n",
    "                        'anaconda3/lib/python3.6/site-packages/statsmodels/datasets/statecrime/statecrime.csv')"
   ]
  },
  {
   "cell_type": "code",
   "execution_count": 4,
   "metadata": {},
   "outputs": [
    {
     "name": "stdout",
     "output_type": "stream",
     "text": [
      "+--------------------+-------+------+-------+-------+------+-----+-----+\n",
      "|               state|violent|murder|hs_grad|poverty|single|white|urban|\n",
      "+--------------------+-------+------+-------+-------+------+-----+-----+\n",
      "|             Alabama|  459.9|   7.1|   82.1|   17.5|  29.0| 70.0|48.65|\n",
      "|              Alaska|  632.6|   3.2|   91.4|    9.0|  25.5| 68.3|44.46|\n",
      "|             Arizona|  423.2|   5.5|   84.2|   16.5|  25.7| 80.0|80.07|\n",
      "|            Arkansas|  530.3|   6.3|   82.4|   18.8|  26.3| 78.4|39.54|\n",
      "|          California|  473.4|   5.4|   80.6|   14.2|  27.8| 62.7|89.73|\n",
      "|            Colorado|  340.9|   3.2|   89.3|   12.9|  21.4| 84.6|76.86|\n",
      "|         Connecticut|  300.5|   3.0|   88.6|    9.4|  25.0| 79.1|84.83|\n",
      "|            Delaware|  645.1|   4.6|   87.4|   10.8|  27.6| 71.9|68.71|\n",
      "|District of Columbia| 1348.9|  24.2|   87.1|   18.4|  48.0| 38.7|100.0|\n",
      "|             Florida|  612.6|   5.5|   85.3|   14.9|  26.6| 76.9|87.44|\n",
      "|             Georgia|  432.6|   6.0|   83.9|   16.5|  29.3| 61.9|65.38|\n",
      "|              Hawaii|  274.1|   1.8|   90.4|   10.4|  26.3| 26.9|71.46|\n",
      "|               Idaho|  238.5|   1.5|   88.4|   14.3|  19.0| 92.3|50.51|\n",
      "|            Illinois|  618.2|   8.4|   86.4|   13.3|  26.0| 72.5|79.97|\n",
      "|             Indiana|  366.4|   5.3|   86.6|   14.4|  24.5| 85.7|59.17|\n",
      "|                Iowa|  294.5|   1.3|   90.5|   11.8|  20.3| 92.3|41.66|\n",
      "|             Kansas |  412.0|   4.7|   89.7|   13.4|  22.8| 86.3|50.17|\n",
      "|           Kentucky |  265.5|   4.3|   81.7|   18.6|  25.4| 88.8|40.99|\n",
      "|           Louisiana|  628.4|  12.3|   82.2|   17.3|  31.4| 63.7|61.33|\n",
      "|               Maine|  119.9|   2.0|   90.2|   12.3|  22.0| 94.9|26.21|\n",
      "+--------------------+-------+------+-------+-------+------+-----+-----+\n",
      "only showing top 20 rows\n",
      "\n"
     ]
    }
   ],
   "source": [
    "df = (spark.read.options(header=True, inferSchema=True).csv(TESTFILE))\n",
    "df.show()"
   ]
  },
  {
   "cell_type": "code",
   "execution_count": 5,
   "metadata": {},
   "outputs": [
    {
     "data": {
      "text/html": [
       "<div>\n",
       "<style scoped>\n",
       "    .dataframe tbody tr th:only-of-type {\n",
       "        vertical-align: middle;\n",
       "    }\n",
       "\n",
       "    .dataframe tbody tr th {\n",
       "        vertical-align: top;\n",
       "    }\n",
       "\n",
       "    .dataframe thead th {\n",
       "        text-align: right;\n",
       "    }\n",
       "</style>\n",
       "<table border=\"1\" class=\"dataframe\">\n",
       "  <thead>\n",
       "    <tr style=\"text-align: right;\">\n",
       "      <th></th>\n",
       "      <th>summary</th>\n",
       "      <th>state</th>\n",
       "      <th>violent</th>\n",
       "      <th>murder</th>\n",
       "      <th>hs_grad</th>\n",
       "      <th>poverty</th>\n",
       "      <th>single</th>\n",
       "      <th>white</th>\n",
       "      <th>urban</th>\n",
       "    </tr>\n",
       "  </thead>\n",
       "  <tbody>\n",
       "    <tr>\n",
       "      <th>0</th>\n",
       "      <td>count</td>\n",
       "      <td>51</td>\n",
       "      <td>51</td>\n",
       "      <td>51</td>\n",
       "      <td>51</td>\n",
       "      <td>51</td>\n",
       "      <td>51</td>\n",
       "      <td>51</td>\n",
       "      <td>51</td>\n",
       "    </tr>\n",
       "    <tr>\n",
       "      <th>1</th>\n",
       "      <td>mean</td>\n",
       "      <td>None</td>\n",
       "      <td>411.48235294117643</td>\n",
       "      <td>4.9</td>\n",
       "      <td>86.87843137254906</td>\n",
       "      <td>13.854901960784314</td>\n",
       "      <td>25.186274509803923</td>\n",
       "      <td>77.9686274509804</td>\n",
       "      <td>60.67019607843137</td>\n",
       "    </tr>\n",
       "    <tr>\n",
       "      <th>2</th>\n",
       "      <td>stddev</td>\n",
       "      <td>None</td>\n",
       "      <td>208.0174470623869</td>\n",
       "      <td>3.6460938002196275</td>\n",
       "      <td>3.3777693068349235</td>\n",
       "      <td>3.11058282162621</td>\n",
       "      <td>4.786565349301861</td>\n",
       "      <td>13.55302903702458</td>\n",
       "      <td>20.802432404908426</td>\n",
       "    </tr>\n",
       "    <tr>\n",
       "      <th>3</th>\n",
       "      <td>min</td>\n",
       "      <td>Alabama</td>\n",
       "      <td>119.9</td>\n",
       "      <td>0.9</td>\n",
       "      <td>79.9</td>\n",
       "      <td>8.5</td>\n",
       "      <td>17.9</td>\n",
       "      <td>26.9</td>\n",
       "      <td>17.38</td>\n",
       "    </tr>\n",
       "    <tr>\n",
       "      <th>4</th>\n",
       "      <td>max</td>\n",
       "      <td>Wyoming</td>\n",
       "      <td>1348.9</td>\n",
       "      <td>24.2</td>\n",
       "      <td>91.8</td>\n",
       "      <td>21.9</td>\n",
       "      <td>48.0</td>\n",
       "      <td>95.8</td>\n",
       "      <td>100.0</td>\n",
       "    </tr>\n",
       "  </tbody>\n",
       "</table>\n",
       "</div>"
      ],
      "text/plain": [
       "  summary    state             violent              murder  \\\n",
       "0   count       51                  51                  51   \n",
       "1    mean     None  411.48235294117643                 4.9   \n",
       "2  stddev     None   208.0174470623869  3.6460938002196275   \n",
       "3     min  Alabama               119.9                 0.9   \n",
       "4     max  Wyoming              1348.9                24.2   \n",
       "\n",
       "              hs_grad             poverty              single  \\\n",
       "0                  51                  51                  51   \n",
       "1   86.87843137254906  13.854901960784314  25.186274509803923   \n",
       "2  3.3777693068349235    3.11058282162621   4.786565349301861   \n",
       "3                79.9                 8.5                17.9   \n",
       "4                91.8                21.9                48.0   \n",
       "\n",
       "               white               urban  \n",
       "0                 51                  51  \n",
       "1   77.9686274509804   60.67019607843137  \n",
       "2  13.55302903702458  20.802432404908426  \n",
       "3               26.9               17.38  \n",
       "4               95.8               100.0  "
      ]
     },
     "execution_count": 5,
     "metadata": {},
     "output_type": "execute_result"
    }
   ],
   "source": [
    "df.describe().toPandas()"
   ]
  },
  {
   "cell_type": "code",
   "execution_count": 6,
   "metadata": {},
   "outputs": [
    {
     "name": "stdout",
     "output_type": "stream",
     "text": [
      "+------------------+\n",
      "|      hsgrad_quart|\n",
      "+------------------+\n",
      "|[83.9, 87.4, 89.8]|\n",
      "+------------------+\n",
      "\n"
     ]
    }
   ],
   "source": [
    "# quartiles\n",
    "df.selectExpr('percentile_approx(hs_grad, array(.25, .5, .75)) as hsgrad_quart').show()"
   ]
  },
  {
   "cell_type": "code",
   "execution_count": 7,
   "metadata": {},
   "outputs": [
    {
     "name": "stdout",
     "output_type": "stream",
     "text": [
      "+----------+-------+------+----+-------+------+-----+-----+\n",
      "|     state|violent|murder| foo|poverty|single|white|urban|\n",
      "+----------+-------+------+----+-------+------+-----+-----+\n",
      "|   Alabama|  459.9|   7.1|82.1|   17.5|  29.0| 70.0|48.65|\n",
      "|    Alaska|  632.6|   3.2|91.4|    9.0|  25.5| 68.3|44.46|\n",
      "|   Arizona|  423.2|   5.5|84.2|   16.5|  25.7| 80.0|80.07|\n",
      "|  Arkansas|  530.3|   6.3|82.4|   18.8|  26.3| 78.4|39.54|\n",
      "|California|  473.4|   5.4|80.6|   14.2|  27.8| 62.7|89.73|\n",
      "+----------+-------+------+----+-------+------+-----+-----+\n",
      "only showing top 5 rows\n",
      "\n"
     ]
    }
   ],
   "source": [
    "df.withColumnRenamed('hs_grad', 'foo').show(5)"
   ]
  },
  {
   "cell_type": "code",
   "execution_count": 8,
   "metadata": {},
   "outputs": [
    {
     "name": "stdout",
     "output_type": "stream",
     "text": [
      "+----------+-------+------+-------+------+-----+-----+\n",
      "|     state|violent|murder|poverty|single|white|urban|\n",
      "+----------+-------+------+-------+------+-----+-----+\n",
      "|   Alabama|  459.9|   7.1|   17.5|  29.0| 70.0|48.65|\n",
      "|    Alaska|  632.6|   3.2|    9.0|  25.5| 68.3|44.46|\n",
      "|   Arizona|  423.2|   5.5|   16.5|  25.7| 80.0|80.07|\n",
      "|  Arkansas|  530.3|   6.3|   18.8|  26.3| 78.4|39.54|\n",
      "|California|  473.4|   5.4|   14.2|  27.8| 62.7|89.73|\n",
      "+----------+-------+------+-------+------+-----+-----+\n",
      "only showing top 5 rows\n",
      "\n"
     ]
    }
   ],
   "source": [
    "# no axis option like pandas\n",
    "df.drop('hs_grad').show(5)"
   ]
  },
  {
   "cell_type": "code",
   "execution_count": 9,
   "metadata": {},
   "outputs": [
    {
     "name": "stdout",
     "output_type": "stream",
     "text": [
      "+--------------------+-------+------+-------+-------+------+-----+-----+\n",
      "|               state|violent|murder|hs_grad|poverty|single|white|urban|\n",
      "+--------------------+-------+------+-------+-------+------+-----+-----+\n",
      "|District of Columbia| 1348.9|  24.2|   87.1|   18.4|  48.0| 38.7|100.0|\n",
      "|           Louisiana|  628.4|  12.3|   82.2|   17.3|  31.4| 63.7|61.33|\n",
      "+--------------------+-------+------+-------+-------+------+-----+-----+\n",
      "\n"
     ]
    }
   ],
   "source": [
    "# filtering\n",
    "df[df.murder > 10].show()"
   ]
  },
  {
   "cell_type": "code",
   "execution_count": 10,
   "metadata": {},
   "outputs": [
    {
     "name": "stdout",
     "output_type": "stream",
     "text": [
      "+--------+-------+------+-------+-------+------+-----+-----+\n",
      "|   state|violent|murder|hs_grad|poverty|single|white|urban|\n",
      "+--------+-------+------+-------+-------+------+-----+-----+\n",
      "|   Texas|  491.4|   5.4|   79.9|   17.2|  27.6| 73.8|75.35|\n",
      "|Colorado|  340.9|   3.2|   89.3|   12.9|  21.4| 84.6|76.86|\n",
      "| Arizona|  423.2|   5.5|   84.2|   16.5|  25.7| 80.0|80.07|\n",
      "|    Utah|  216.2|   1.4|   90.4|   11.5|  17.9| 89.3|81.17|\n",
      "|New York|  385.5|   4.0|   84.7|   14.2|  30.2| 67.4|82.66|\n",
      "+--------+-------+------+-------+-------+------+-----+-----+\n",
      "only showing top 5 rows\n",
      "\n"
     ]
    }
   ],
   "source": [
    "# complex filtering \n",
    "df[(df.violent < 500) & (df.urban > 75)].sort('urban').show(5)"
   ]
  },
  {
   "cell_type": "code",
   "execution_count": 11,
   "metadata": {},
   "outputs": [
    {
     "name": "stdout",
     "output_type": "stream",
     "text": [
      "+----------+-------+------+-------+-------+------+-----+-----+-----+\n",
      "|     state|violent|murder|hs_grad|poverty|single|white|urban|dummy|\n",
      "+----------+-------+------+-------+-------+------+-----+-----+-----+\n",
      "|   Alabama|  459.9|   7.1|   82.1|   17.5|  29.0| 70.0|48.65|    1|\n",
      "|    Alaska|  632.6|   3.2|   91.4|    9.0|  25.5| 68.3|44.46|    3|\n",
      "|   Arizona|  423.2|   5.5|   84.2|   16.5|  25.7| 80.0|80.07|    1|\n",
      "|  Arkansas|  530.3|   6.3|   82.4|   18.8|  26.3| 78.4|39.54|    1|\n",
      "|California|  473.4|   5.4|   80.6|   14.2|  27.8| 62.7|89.73|    1|\n",
      "+----------+-------+------+-------+-------+------+-----+-----+-----+\n",
      "only showing top 5 rows\n",
      "\n"
     ]
    }
   ],
   "source": [
    "# add column and change its data type\n",
    "# Note that divide-by-zero gives NULL, not Inf like pandas -\n",
    "# but you can call .fillna() although with fewer options than pandas\n",
    "df2 = df.withColumn('dummy1', 10 / df.murder)\n",
    "df2 = (df2.withColumn('dummy', df2.dummy1.cast(IntegerType()))\n",
    "       .drop('dummy1'))\n",
    "df2.show(5)"
   ]
  },
  {
   "cell_type": "code",
   "execution_count": 12,
   "metadata": {},
   "outputs": [
    {
     "data": {
      "text/html": [
       "<div>\n",
       "<style scoped>\n",
       "    .dataframe tbody tr th:only-of-type {\n",
       "        vertical-align: middle;\n",
       "    }\n",
       "\n",
       "    .dataframe tbody tr th {\n",
       "        vertical-align: top;\n",
       "    }\n",
       "\n",
       "    .dataframe thead th {\n",
       "        text-align: right;\n",
       "    }\n",
       "</style>\n",
       "<table border=\"1\" class=\"dataframe\">\n",
       "  <thead>\n",
       "    <tr style=\"text-align: right;\">\n",
       "      <th></th>\n",
       "      <th>dummy</th>\n",
       "      <th>avg(violent)</th>\n",
       "      <th>avg(urban)</th>\n",
       "    </tr>\n",
       "  </thead>\n",
       "  <tbody>\n",
       "    <tr>\n",
       "      <th>0</th>\n",
       "      <td>0</td>\n",
       "      <td>988.65000</td>\n",
       "      <td>80.66500</td>\n",
       "    </tr>\n",
       "    <tr>\n",
       "      <th>1</th>\n",
       "      <td>1</td>\n",
       "      <td>516.06000</td>\n",
       "      <td>64.06000</td>\n",
       "    </tr>\n",
       "    <tr>\n",
       "      <th>2</th>\n",
       "      <td>2</td>\n",
       "      <td>348.85556</td>\n",
       "      <td>59.22111</td>\n",
       "    </tr>\n",
       "    <tr>\n",
       "      <th>3</th>\n",
       "      <td>3</td>\n",
       "      <td>359.47500</td>\n",
       "      <td>68.02125</td>\n",
       "    </tr>\n",
       "    <tr>\n",
       "      <th>4</th>\n",
       "      <td>4</td>\n",
       "      <td>283.35000</td>\n",
       "      <td>58.12500</td>\n",
       "    </tr>\n",
       "    <tr>\n",
       "      <th>5</th>\n",
       "      <td>5</td>\n",
       "      <td>209.22500</td>\n",
       "      <td>40.54500</td>\n",
       "    </tr>\n",
       "    <tr>\n",
       "      <th>6</th>\n",
       "      <td>6</td>\n",
       "      <td>226.35000</td>\n",
       "      <td>54.25500</td>\n",
       "    </tr>\n",
       "    <tr>\n",
       "      <th>7</th>\n",
       "      <td>7</td>\n",
       "      <td>215.26667</td>\n",
       "      <td>46.73667</td>\n",
       "    </tr>\n",
       "    <tr>\n",
       "      <th>8</th>\n",
       "      <td>11</td>\n",
       "      <td>169.50000</td>\n",
       "      <td>47.34000</td>\n",
       "    </tr>\n",
       "  </tbody>\n",
       "</table>\n",
       "</div>"
      ],
      "text/plain": [
       "   dummy  avg(violent)  avg(urban)\n",
       "0      0     988.65000    80.66500\n",
       "1      1     516.06000    64.06000\n",
       "2      2     348.85556    59.22111\n",
       "3      3     359.47500    68.02125\n",
       "4      4     283.35000    58.12500\n",
       "5      5     209.22500    40.54500\n",
       "6      6     226.35000    54.25500\n",
       "7      7     215.26667    46.73667\n",
       "8     11     169.50000    47.34000"
      ]
     },
     "execution_count": 12,
     "metadata": {},
     "output_type": "execute_result"
    }
   ],
   "source": [
    "df2.groupby('dummy').agg({'violent': 'mean', 'urban': 'mean'}).sort('dummy').toPandas()"
   ]
  },
  {
   "cell_type": "code",
   "execution_count": 13,
   "metadata": {},
   "outputs": [
    {
     "name": "stdout",
     "output_type": "stream",
     "text": [
      "+----+-----+\n",
      "|cond|count|\n",
      "+----+-----+\n",
      "|   1|   11|\n",
      "|   3|    1|\n",
      "|   2|   39|\n",
      "+----+-----+\n",
      "\n"
     ]
    }
   ],
   "source": [
    "# Create new column based on conditions: if - elif - else\n",
    "# Stays within JVM\n",
    "df.withColumn('cond',\n",
    "              F.when(df.hs_grad > 90, 1)\n",
    "               .when(df.hs_grad > 80, 2)\n",
    "               .otherwise(3)).groupby('cond').count().show()"
   ]
  },
  {
   "cell_type": "code",
   "execution_count": 14,
   "metadata": {},
   "outputs": [
    {
     "name": "stdout",
     "output_type": "stream",
     "text": [
      "+----------+-------+------+-------+-------+------+-----+-----+-------------+\n",
      "|     state|violent|murder|hs_grad|poverty|single|white|urban|rounded_white|\n",
      "+----------+-------+------+-------+-------+------+-----+-----+-------------+\n",
      "|   Alabama|  459.9|   7.1|   82.1|   17.5|  29.0| 70.0|48.65|         70.0|\n",
      "|    Alaska|  632.6|   3.2|   91.4|    9.0|  25.5| 68.3|44.46|         70.0|\n",
      "|   Arizona|  423.2|   5.5|   84.2|   16.5|  25.7| 80.0|80.07|         80.0|\n",
      "|  Arkansas|  530.3|   6.3|   82.4|   18.8|  26.3| 78.4|39.54|         80.0|\n",
      "|California|  473.4|   5.4|   80.6|   14.2|  27.8| 62.7|89.73|         60.0|\n",
      "+----------+-------+------+-------+-------+------+-----+-----+-------------+\n",
      "only showing top 5 rows\n",
      "\n"
     ]
    }
   ],
   "source": [
    "# Custom Python code (slower than staying in JVM); make sure udf return type is correct\n",
    "fn = F.udf(lambda x: round(x / 10.0, 0) * 10.0, DoubleType())\n",
    "df.withColumn('rounded_white', fn(df.white)).show(5)"
   ]
  },
  {
   "cell_type": "code",
   "execution_count": 15,
   "metadata": {},
   "outputs": [
    {
     "name": "stdout",
     "output_type": "stream",
     "text": [
      "+----------+-------+--------+\n",
      "|     state|hs_grad|jointest|\n",
      "+----------+-------+--------+\n",
      "|   Alabama|   82.1|       0|\n",
      "|    Alaska|   91.4|       1|\n",
      "|   Arizona|   84.2|       0|\n",
      "|  Arkansas|   82.4|       0|\n",
      "|California|   80.6|       0|\n",
      "+----------+-------+--------+\n",
      "only showing top 5 rows\n",
      "\n"
     ]
    }
   ],
   "source": [
    "df3 = df[['state', 'hs_grad']]\n",
    "df3 = df3.withColumn('jointest',\n",
    "                          F.when(df3.hs_grad > 85, 1)\n",
    "                           .otherwise(0))\n",
    "df3.show(5)"
   ]
  },
  {
   "cell_type": "code",
   "execution_count": 16,
   "metadata": {},
   "outputs": [
    {
     "name": "stdout",
     "output_type": "stream",
     "text": [
      "+----------+-------+------+-------+-------+------+-----+-----+-------+--------+\n",
      "|     state|violent|murder|hs_grad|poverty|single|white|urban|hs_grad|jointest|\n",
      "+----------+-------+------+-------+-------+------+-----+-----+-------+--------+\n",
      "|   Alabama|  459.9|   7.1|   82.1|   17.5|  29.0| 70.0|48.65|   82.1|       0|\n",
      "|    Alaska|  632.6|   3.2|   91.4|    9.0|  25.5| 68.3|44.46|   91.4|       1|\n",
      "|   Arizona|  423.2|   5.5|   84.2|   16.5|  25.7| 80.0|80.07|   84.2|       0|\n",
      "|  Arkansas|  530.3|   6.3|   82.4|   18.8|  26.3| 78.4|39.54|   82.4|       0|\n",
      "|California|  473.4|   5.4|   80.6|   14.2|  27.8| 62.7|89.73|   80.6|       0|\n",
      "+----------+-------+------+-------+-------+------+-----+-----+-------+--------+\n",
      "only showing top 5 rows\n",
      "\n"
     ]
    }
   ],
   "source": [
    "df.join(df3, on='state').show(5)"
   ]
  },
  {
   "cell_type": "code",
   "execution_count": 17,
   "metadata": {},
   "outputs": [
    {
     "name": "stdout",
     "output_type": "stream",
     "text": [
      "+----------+-------+------+-------+-------+------+-----+-----+----------+-------+--------+\n",
      "|     state|violent|murder|hs_grad|poverty|single|white|urban|     state|hs_grad|jointest|\n",
      "+----------+-------+------+-------+-------+------+-----+-----+----------+-------+--------+\n",
      "|   Alabama|  459.9|   7.1|   82.1|   17.5|  29.0| 70.0|48.65|   Alabama|   82.1|       0|\n",
      "|    Alaska|  632.6|   3.2|   91.4|    9.0|  25.5| 68.3|44.46|    Alaska|   91.4|       1|\n",
      "|   Arizona|  423.2|   5.5|   84.2|   16.5|  25.7| 80.0|80.07|   Arizona|   84.2|       0|\n",
      "|  Arkansas|  530.3|   6.3|   82.4|   18.8|  26.3| 78.4|39.54|  Arkansas|   82.4|       0|\n",
      "|California|  473.4|   5.4|   80.6|   14.2|  27.8| 62.7|89.73|California|   80.6|       0|\n",
      "+----------+-------+------+-------+-------+------+-----+-----+----------+-------+--------+\n",
      "only showing top 5 rows\n",
      "\n"
     ]
    }
   ],
   "source": [
    "# specify each table's key\n",
    "df.join(df3, df.state == df3.state).show(5)"
   ]
  },
  {
   "cell_type": "code",
   "execution_count": 18,
   "metadata": {},
   "outputs": [
    {
     "name": "stdout",
     "output_type": "stream",
     "text": [
      "+---+---+---+---+\n",
      "|  a|  b|  c|  d|\n",
      "+---+---+---+---+\n",
      "|  1|  3|  7|100|\n",
      "|  1|  5|  7|110|\n",
      "|  1|  5|  9|120|\n",
      "|  2|  5|  7|130|\n",
      "|  2|  5|  9|140|\n",
      "+---+---+---+---+\n",
      "\n"
     ]
    }
   ],
   "source": [
    "vals = [[1, 3, 7, 100],\n",
    "        [1, 5, 7, 110],\n",
    "        [1, 5, 9, 120],\n",
    "        [2, 5, 7, 130],\n",
    "        [2, 5, 9, 140]]\n",
    "cols = ['a', 'b', 'c', 'd']\n",
    "df4 = sqlContext.createDataFrame(vals, cols)\n",
    "df4.show()"
   ]
  },
  {
   "cell_type": "code",
   "execution_count": 19,
   "metadata": {},
   "outputs": [
    {
     "name": "stdout",
     "output_type": "stream",
     "text": [
      "+---+---+---+----+\n",
      "|  a|  b|  7|   9|\n",
      "+---+---+---+----+\n",
      "|  1|  3|100|null|\n",
      "|  2|  5|130| 140|\n",
      "|  1|  5|110| 120|\n",
      "+---+---+---+----+\n",
      "\n"
     ]
    }
   ],
   "source": [
    "# for each unique (a,b) tuple:\n",
    "#  - make columns from the unique values of 'c'\n",
    "#  - cell value is the sum of the 'd's found\n",
    "#        for that combination of (a,b,c)\n",
    "df4.groupby('a', 'b').pivot('c').sum('d').show()"
   ]
  },
  {
   "cell_type": "code",
   "execution_count": 20,
   "metadata": {},
   "outputs": [
    {
     "name": "stdout",
     "output_type": "stream",
     "text": [
      "+---+---+---+---+\n",
      "|  a|  b|  7|  9|\n",
      "+---+---+---+---+\n",
      "|  1|  3|100|  0|\n",
      "|  2|  5|130|140|\n",
      "|  1|  5|110|120|\n",
      "+---+---+---+---+\n",
      "\n"
     ]
    }
   ],
   "source": [
    "# put a 0 in the missing values\n",
    "df4.groupby('a', 'b').pivot('c').sum('d').fillna(0).show()"
   ]
  },
  {
   "cell_type": "code",
   "execution_count": 21,
   "metadata": {},
   "outputs": [
    {
     "data": {
      "image/png": "[encoded data removed]",
      "text/plain": [
       "<matplotlib.figure.Figure at 0x7f55811f9f98>"
      ]
     },
     "metadata": {},
     "output_type": "display_data"
    }
   ],
   "source": [
    "# do histogram in pandas, retrieving only a sampling (keep 75% in this case)\n",
    "df.sample(False, 0.75).toPandas().hist();"
   ]
  },
  {
   "cell_type": "code",
   "execution_count": 22,
   "metadata": {},
   "outputs": [
    {
     "name": "stdout",
     "output_type": "stream",
     "text": [
      "+-------------+-------+------+-------+-------+------+-----+-----+\n",
      "|        state|violent|murder|hs_grad|poverty|single|white|urban|\n",
      "+-------------+-------+------+-------+-------+------+-----+-----+\n",
      "|       Alaska|  632.6|   3.2|   91.4|    9.0|  25.5| 68.3|44.46|\n",
      "|       Hawaii|  274.1|   1.8|   90.4|   10.4|  26.3| 26.9|71.46|\n",
      "|         Iowa|  294.5|   1.3|   90.5|   11.8|  20.3| 92.3|41.66|\n",
      "|        Maine|  119.9|   2.0|   90.2|   12.3|  22.0| 94.9|26.21|\n",
      "|    Minnesota|  214.2|   1.5|   91.5|   11.0|  20.2| 87.4| 58.0|\n",
      "|     Montana |  283.9|   3.2|   90.8|   15.1|  20.3| 89.4|26.49|\n",
      "|New Hampshire|  169.5|   0.9|   91.3|    8.5|  19.5| 94.5|47.34|\n",
      "| North Dakota|  223.6|   2.0|   90.1|   11.7|  18.2| 90.2| 40.0|\n",
      "|         Utah|  216.2|   1.4|   90.4|   11.5|  17.9| 89.3|81.17|\n",
      "|      Vermont|  135.1|   1.3|   91.0|   11.4|  21.3| 95.8|17.38|\n",
      "|      Wyoming|  219.3|   2.0|   91.8|    9.8|  18.9| 91.3|24.51|\n",
      "+-------------+-------+------+-------+-------+------+-----+-----+\n",
      "\n"
     ]
    }
   ],
   "source": [
    "# sql commands on dataframes\n",
    "df.createOrReplaceTempView('fooview')\n",
    "spark.sql('select * from fooview where hs_grad > 90').show()"
   ]
  },
  {
   "cell_type": "code",
   "execution_count": 23,
   "metadata": {},
   "outputs": [
    {
     "data": {
      "text/html": [
       "<div>\n",
       "<style scoped>\n",
       "    .dataframe tbody tr th:only-of-type {\n",
       "        vertical-align: middle;\n",
       "    }\n",
       "\n",
       "    .dataframe tbody tr th {\n",
       "        vertical-align: top;\n",
       "    }\n",
       "\n",
       "    .dataframe thead th {\n",
       "        text-align: right;\n",
       "    }\n",
       "</style>\n",
       "<table border=\"1\" class=\"dataframe\">\n",
       "  <thead>\n",
       "    <tr style=\"text-align: right;\">\n",
       "      <th></th>\n",
       "      <th>state</th>\n",
       "      <th>violent</th>\n",
       "      <th>murder</th>\n",
       "      <th>hs_grad</th>\n",
       "      <th>poverty</th>\n",
       "      <th>single</th>\n",
       "      <th>white</th>\n",
       "      <th>urban</th>\n",
       "    </tr>\n",
       "  </thead>\n",
       "  <tbody>\n",
       "    <tr>\n",
       "      <th>0</th>\n",
       "      <td>Alabama</td>\n",
       "      <td>459.9</td>\n",
       "      <td>7.1</td>\n",
       "      <td>82.1</td>\n",
       "      <td>17.5</td>\n",
       "      <td>29.0</td>\n",
       "      <td>70.0</td>\n",
       "      <td>48.65</td>\n",
       "    </tr>\n",
       "    <tr>\n",
       "      <th>1</th>\n",
       "      <td>Alaska</td>\n",
       "      <td>632.6</td>\n",
       "      <td>3.2</td>\n",
       "      <td>91.4</td>\n",
       "      <td>9.0</td>\n",
       "      <td>25.5</td>\n",
       "      <td>68.3</td>\n",
       "      <td>44.46</td>\n",
       "    </tr>\n",
       "    <tr>\n",
       "      <th>2</th>\n",
       "      <td>Arizona</td>\n",
       "      <td>423.2</td>\n",
       "      <td>5.5</td>\n",
       "      <td>84.2</td>\n",
       "      <td>16.5</td>\n",
       "      <td>25.7</td>\n",
       "      <td>80.0</td>\n",
       "      <td>80.07</td>\n",
       "    </tr>\n",
       "    <tr>\n",
       "      <th>3</th>\n",
       "      <td>Arkansas</td>\n",
       "      <td>530.3</td>\n",
       "      <td>6.3</td>\n",
       "      <td>82.4</td>\n",
       "      <td>18.8</td>\n",
       "      <td>26.3</td>\n",
       "      <td>78.4</td>\n",
       "      <td>39.54</td>\n",
       "    </tr>\n",
       "    <tr>\n",
       "      <th>4</th>\n",
       "      <td>California</td>\n",
       "      <td>473.4</td>\n",
       "      <td>5.4</td>\n",
       "      <td>80.6</td>\n",
       "      <td>14.2</td>\n",
       "      <td>27.8</td>\n",
       "      <td>62.7</td>\n",
       "      <td>89.73</td>\n",
       "    </tr>\n",
       "    <tr>\n",
       "      <th>5</th>\n",
       "      <td>Colorado</td>\n",
       "      <td>340.9</td>\n",
       "      <td>3.2</td>\n",
       "      <td>89.3</td>\n",
       "      <td>12.9</td>\n",
       "      <td>21.4</td>\n",
       "      <td>84.6</td>\n",
       "      <td>76.86</td>\n",
       "    </tr>\n",
       "    <tr>\n",
       "      <th>6</th>\n",
       "      <td>Connecticut</td>\n",
       "      <td>300.5</td>\n",
       "      <td>3.0</td>\n",
       "      <td>88.6</td>\n",
       "      <td>9.4</td>\n",
       "      <td>25.0</td>\n",
       "      <td>79.1</td>\n",
       "      <td>84.83</td>\n",
       "    </tr>\n",
       "    <tr>\n",
       "      <th>7</th>\n",
       "      <td>Delaware</td>\n",
       "      <td>645.1</td>\n",
       "      <td>4.6</td>\n",
       "      <td>87.4</td>\n",
       "      <td>10.8</td>\n",
       "      <td>27.6</td>\n",
       "      <td>71.9</td>\n",
       "      <td>68.71</td>\n",
       "    </tr>\n",
       "    <tr>\n",
       "      <th>8</th>\n",
       "      <td>District of Columbia</td>\n",
       "      <td>1348.9</td>\n",
       "      <td>24.2</td>\n",
       "      <td>87.1</td>\n",
       "      <td>18.4</td>\n",
       "      <td>48.0</td>\n",
       "      <td>38.7</td>\n",
       "      <td>100.00</td>\n",
       "    </tr>\n",
       "    <tr>\n",
       "      <th>9</th>\n",
       "      <td>Florida</td>\n",
       "      <td>612.6</td>\n",
       "      <td>5.5</td>\n",
       "      <td>85.3</td>\n",
       "      <td>14.9</td>\n",
       "      <td>26.6</td>\n",
       "      <td>76.9</td>\n",
       "      <td>87.44</td>\n",
       "    </tr>\n",
       "  </tbody>\n",
       "</table>\n",
       "</div>"
      ],
      "text/plain": [
       "                  state  violent  murder  hs_grad  poverty  single  white  \\\n",
       "0               Alabama    459.9     7.1     82.1     17.5    29.0   70.0   \n",
       "1                Alaska    632.6     3.2     91.4      9.0    25.5   68.3   \n",
       "2               Arizona    423.2     5.5     84.2     16.5    25.7   80.0   \n",
       "3              Arkansas    530.3     6.3     82.4     18.8    26.3   78.4   \n",
       "4            California    473.4     5.4     80.6     14.2    27.8   62.7   \n",
       "5              Colorado    340.9     3.2     89.3     12.9    21.4   84.6   \n",
       "6           Connecticut    300.5     3.0     88.6      9.4    25.0   79.1   \n",
       "7              Delaware    645.1     4.6     87.4     10.8    27.6   71.9   \n",
       "8  District of Columbia   1348.9    24.2     87.1     18.4    48.0   38.7   \n",
       "9               Florida    612.6     5.5     85.3     14.9    26.6   76.9   \n",
       "\n",
       "    urban  \n",
       "0   48.65  \n",
       "1   44.46  \n",
       "2   80.07  \n",
       "3   39.54  \n",
       "4   89.73  \n",
       "5   76.86  \n",
       "6   84.83  \n",
       "7   68.71  \n",
       "8  100.00  \n",
       "9   87.44  "
      ]
     },
     "execution_count": 23,
     "metadata": {},
     "output_type": "execute_result"
    }
   ],
   "source": [
    "# convert to Pandas - limit size before conversion\n",
    "df.limit(10).toPandas()"
   ]
  }
 ],
 "metadata": {
  "kernelspec": {
   "display_name": "Python 3",
   "language": "python",
   "name": "python3"
  },
  "language_info": {
   "codemirror_mode": {
    "name": "ipython",
    "version": 3
   },
   "file_extension": ".py",
   "mimetype": "text/x-python",
   "name": "python",
   "nbconvert_exporter": "python",
   "pygments_lexer": "ipython3",
   "version": "3.6.4"
  }
 },
 "nbformat": 4,
 "nbformat_minor": 2
}
